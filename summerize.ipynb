{
 "cells": [
  {
   "cell_type": "code",
   "execution_count": null,
   "metadata": {},
   "outputs": [],
   "source": [
    "import warnings\n",
    "warnings.filterwarnings(\"ignore\")"
   ]
  },
  {
   "cell_type": "code",
   "execution_count": 3,
   "metadata": {},
   "outputs": [
    {
     "name": "stderr",
     "output_type": "stream",
     "text": [
      "Device set to use cpu\n"
     ]
    }
   ],
   "source": [
    "from transformers import pipeline\n",
    "import torch\n",
    "summarizer = pipeline(\"summarization\",\n",
    "                       model=\"facebook/bart-large-cnn\",\n",
    "                       torch_dtype=torch.bfloat16)"
   ]
  },
  {
   "cell_type": "code",
   "execution_count": 4,
   "metadata": {},
   "outputs": [
    {
     "name": "stdout",
     "output_type": "stream",
     "text": [
      "Deep learning works by using artificial neural networks to learn from data. Neural networks are made up of layers of interconnected nodes, and each node is responsible for learning a specific feature of the data.\n",
      "    Building on our previous example with images – in an image recognition network, the first layer of nodes might learn to identify edges, the second layer might learn to identify shapes, and the third layer might learn to identify objects.\n",
      "    As the network learns, the weights on the connections between the nodes are adjusted so that the network can better classify the data. \n",
      "    This process is called training, and it can be done using a variety of techniques, such as supervised learning, unsupervised learning, and reinforcement learning.\n",
      "    Once a neural network has been trained, it can be used to make predictions with new data it’s received.\n"
     ]
    }
   ],
   "source": [
    "## input\n",
    "text = \"\"\"Deep learning works by using artificial neural networks to learn from data. Neural networks are made up of layers of interconnected nodes, and each node is responsible for learning a specific feature of the data.\n",
    "    Building on our previous example with images – in an image recognition network, the first layer of nodes might learn to identify edges, the second layer might learn to identify shapes, and the third layer might learn to identify objects.\n",
    "    As the network learns, the weights on the connections between the nodes are adjusted so that the network can better classify the data. \n",
    "    This process is called training, and it can be done using a variety of techniques, such as supervised learning, unsupervised learning, and reinforcement learning.\n",
    "    Once a neural network has been trained, it can be used to make predictions with new data it’s received.\"\"\"\n",
    "\n",
    "print(text)"
   ]
  },
  {
   "cell_type": "code",
   "execution_count": 7,
   "metadata": {},
   "outputs": [
    {
     "name": "stdout",
     "output_type": "stream",
     "text": [
      "Deep learning works by using artificial neural networks to learn from data. Neural networks are made up of layers of interconnected nodes. Each node is responsible for learning a specific feature of the data. As the network learns, the weights on the connections\n"
     ]
    }
   ],
   "source": [
    "## summarize the text\n",
    "summary = summarizer(text,\n",
    "                     max_length=50,\n",
    "                     min_length=25,\n",
    "                     do_sample=False)\n",
    "\n",
    "print(summary[0]['summary_text'])"
   ]
  },
  {
   "cell_type": "code",
   "execution_count": 6,
   "metadata": {},
   "outputs": [
    {
     "name": "stdout",
     "output_type": "stream",
     "text": [
      "short summary: Deep learning works by using artificial neural networks to learn from data. Neural networks are made up of layers of interconnected nodes. Each node is\n",
      "long summary: Deep learning works by using artificial neural networks to learn from data. Neural networks are made up of layers of interconnected nodes. Each node is responsible for learning a specific feature of the data. As the network learns, the weights on the connections between the nodes are adjusted so that the network can better classify data.\n"
     ]
    }
   ],
   "source": [
    "short_summary = summarizer(text, max_length=30, min_length=10, do_sample=False)\n",
    "print(\"short summary:\", short_summary[0]['summary_text'])\n",
    "\n",
    "long_summary = summarizer(text, max_length=80, min_length=50, do_sample=False)\n",
    "print(\"long summary:\", long_summary[0]['summary_text'])"
   ]
  },
  {
   "cell_type": "code",
   "execution_count": null,
   "metadata": {},
   "outputs": [],
   "source": []
  }
 ],
 "metadata": {
  "kernelspec": {
   "display_name": "venv",
   "language": "python",
   "name": "python3"
  },
  "language_info": {
   "codemirror_mode": {
    "name": "ipython",
    "version": 3
   },
   "file_extension": ".py",
   "mimetype": "text/x-python",
   "name": "python",
   "nbconvert_exporter": "python",
   "pygments_lexer": "ipython3",
   "version": "3.9.21"
  }
 },
 "nbformat": 4,
 "nbformat_minor": 2
}
